{
  "nbformat": 4,
  "nbformat_minor": 0,
  "metadata": {
    "colab": {
      "provenance": []
    },
    "kernelspec": {
      "name": "python3",
      "display_name": "Python 3"
    },
    "language_info": {
      "name": "python"
    }
  },
  "cells": [
    {
      "cell_type": "markdown",
      "source": [
        "**Recommender Systems**\n",
        "Recommender systems help predict what you might like based on your past behavior. There are two types: collaborative filtering (suggests things similar users like) and content-based filtering (suggests things similar to what you've shown interest in). For example, Netflix uses collaborative filtering for movie recommendations, and Pandora uses content-based filtering for music suggestions.\n",
        "\n",
        "**Collaborative Filtering**\n",
        "Collaborative filtering is a popular way to recommend things based on what users with similar tastes have liked before. It assumes that if users agreed in the past, they'll agree in the future. Unlike content-based filtering, it doesn't need to understand the details of the items. Instead, it relies on user behavior data to make predictions. Collaborative filtering faces challenges like needing a lot of user data, being computationally demanding, and dealing with sparse datasets. Despite these challenges, it's widely used, and in this chapter, we'll explore how to tackle these issues."
      ],
      "metadata": {
        "id": "keKp2XSbdMrm"
      }
    },
    {
      "cell_type": "markdown",
      "source": [
        "# **Movie Recommender Systems Using Neural Network**"
      ],
      "metadata": {
        "id": "s2FCzRQjnoB-"
      }
    },
    {
      "cell_type": "markdown",
      "source": [
        "MovieLens Dataset\n",
        "Instead of the 100 million ratings Netflix dataset, we will use a smaller movie ratings dataset known as the MovieLens 20M Dataset, provided by GroupLens, a research lab in the Department of Computer Science and Engineering at the University of Minnesota, Twin Cities. The data contains 20,000,263 ratings across 27,278 movies created by 138,493 users from January 9, 1995 to March 31, 2015. Of users who rated at least 20 movies each, we will select a subset at random. This dataset is more manageable to work with than the 100 million ratings dataset from Netflix. Because the file size exceeds one hundred megabytes, the file is not accessible on GitHub. You will need to download the file directly from the MovieLens website."
      ],
      "metadata": {
        "id": "3EevUa6LnImk"
      }
    },
    {
      "cell_type": "code",
      "source": [
        "import numpy as np\n",
        "import pandas as pd\n",
        "import os, time, re\n",
        "import pickle, gzip, datetime\n",
        "\n",
        "from datetime import datetime\n",
        "\n",
        "now = datetime.now()\n",
        "\n",
        "import matplotlib.pyplot as plt\n",
        "import seaborn as sns\n",
        "color = sns.color_palette()\n",
        "import matplotlib as mpl\n",
        "%matplotlib inline\n",
        "\n",
        "\n",
        "from sklearn import preprocessing as pp\n",
        "from sklearn.model_selection import train_test_split\n",
        "from sklearn.model_selection import StratifiedKFold\n",
        "from sklearn.metrics import log_loss\n",
        "from sklearn.metrics import precision_recall_curve, average_precision_score\n",
        "from sklearn.metrics import roc_curve, auc, roc_auc_score, mean_squared_error\n",
        "import lightgbm as lgb\n",
        "\n",
        "\n",
        "import tensorflow as tf\n",
        "import keras\n",
        "\n",
        "from tensorflow.keras.models import Sequential, Model\n",
        "from tensorflow.keras.layers import Activation, Dense, Dropout\n",
        "from tensorflow.keras.layers import BatchNormalization, Input, Lambda\n",
        "from tensorflow.keras.layers import Embedding, Flatten, dot\n",
        "from tensorflow.keras import regularizers\n",
        "from tensorflow.keras.losses import mse, binary_crossentropy"
      ],
      "metadata": {
        "id": "aExFFf2zaKrD"
      },
      "execution_count": null,
      "outputs": []
    },
    {
      "cell_type": "markdown",
      "source": [
        "# Load the data"
      ],
      "metadata": {
        "id": "d68euiotoqui"
      }
    },
    {
      "cell_type": "code",
      "source": [
        "# Install wget (if not already installed)\n",
        "!pip install wget\n",
        "\n",
        "# Import wget library\n",
        "import wget\n",
        "\n",
        "# URL of the MovieLens 100K dataset\n",
        "url = \"https://files.grouplens.org/datasets/movielens/ml-100k.zip\"\n",
        "\n",
        "# Define the location where you want to save the dataset\n",
        "save_path = \"/content/ml-100k.zip\"\n",
        "\n",
        "# Use wget to download the dataset\n",
        "wget.download(url, save_path)\n",
        "\n",
        "# Unzip the downloaded file\n",
        "import zipfile\n",
        "with zipfile.ZipFile(save_path, \"r\") as zip_ref:\n",
        "    zip_ref.extractall(\"/content/\")\n",
        "\n",
        "# Display the contents of the extracted directory\n",
        "extracted_directory = \"/content/ml-100k/\"\n",
        "print(\"\\nContents of the extracted directory:\")\n",
        "!ls $extracted_directory"
      ],
      "metadata": {
        "colab": {
          "base_uri": "https://localhost:8080/"
        },
        "id": "YL7f5OcKnIF7",
        "outputId": "b9107b8d-d194-4728-d0b1-d90f974831fc"
      },
      "execution_count": null,
      "outputs": [
        {
          "output_type": "stream",
          "name": "stdout",
          "text": [
            "Collecting wget\n",
            "  Downloading wget-3.2.zip (10 kB)\n",
            "  Preparing metadata (setup.py) ... \u001b[?25l\u001b[?25hdone\n",
            "Building wheels for collected packages: wget\n",
            "  Building wheel for wget (setup.py) ... \u001b[?25l\u001b[?25hdone\n",
            "  Created wheel for wget: filename=wget-3.2-py3-none-any.whl size=9655 sha256=42214107da9236429f3521750e9494cfc45efc7214ddfe3772a249c0bd229776\n",
            "  Stored in directory: /root/.cache/pip/wheels/8b/f1/7f/5c94f0a7a505ca1c81cd1d9208ae2064675d97582078e6c769\n",
            "Successfully built wget\n",
            "Installing collected packages: wget\n",
            "Successfully installed wget-3.2\n",
            "\n",
            "Contents of the extracted directory:\n",
            "allbut.pl  u1.base  u2.test  u4.base  u5.test  ub.base\tu.genre  u.occupation\n",
            "mku.sh\t   u1.test  u3.base  u4.test  ua.base  ub.test\tu.info\t u.user\n",
            "README\t   u2.base  u3.test  u5.base  ua.test  u.data\tu.item\n"
          ]
        }
      ]
    },
    {
      "cell_type": "code",
      "source": [
        "# Importing libraries\n",
        "import pandas as pd\n",
        "import numpy as np\n",
        "\n",
        "# Define the path to the MovieLens 100K dataset in your Colab environment\n",
        "base_path = \"/content/ml-100k/\"\n",
        "\n",
        "# Reading users file\n",
        "#It reads the u.user file, which contains information about users such as user ID, age, sex, occupation, and zip code. The data is read using the specified column names and delimiter (|).\n",
        "u_cols = ['user_id', 'age', 'sex', 'occupation', 'zip_code']\n",
        "users = pd.read_csv(base_path + 'u.user', sep='|', names=u_cols, encoding='latin-1')\n",
        "\n",
        "# Reading ratings file\n",
        "#It reads the u.data file, which contains user ratings for movies. The columns include user ID, movie ID, rating, and a timestamp. The data is read using the specified column names and tab (\\t) as the separator.\n",
        "r_cols = ['user_id', 'movie_id', 'rating', 'unix_timestamp']\n",
        "ratings = pd.read_csv(base_path + 'u.data', sep='\\t', names=r_cols, encoding='latin-1')\n",
        "\n",
        "# Reading items file\n",
        "#It reads the u.item file, which contains information about movies, such as movie ID, title, release date, and genre information. The data is read using the specified column names and delimiter (|).\n",
        "i_cols = ['movie_id', 'movie_title', 'release_date', 'video_release_date', 'IMDb_URL', 'unknown', 'Action', 'Adventure',\n",
        "          'Animation', 'Children\\'s', 'Comedy', 'Crime', 'Documentary', 'Drama', 'Fantasy', 'Film-Noir', 'Horror',\n",
        "          'Musical', 'Mystery', 'Romance', 'Sci-Fi', 'Thriller', 'War', 'Western']\n",
        "items = pd.read_csv(base_path + 'u.item', sep='|', names=i_cols, encoding='latin-1')\n",
        "\n",
        "# Displaying the content of each file\n",
        "#It displays the shape (number of rows and columns) and the first few rows of each dataset (User Data, Ratings Data, and Item Data) using the shape and head() functions.\n",
        "# User Data\n",
        "print(\"\\nUser Data:\")\n",
        "print(\"Shape: \", users.shape)\n",
        "print(users.head())\n",
        "\n",
        "## We have 943 users in the dataset and each user has 5 features, i.e. user_ID, age, sex, occupation and zip_code.\n",
        "#Now let’s look at the ratings file.\n",
        "\n",
        "# Ratings Data\n",
        "print(\"\\nRatings Data:\")\n",
        "print(\"Shape: \", ratings.shape)\n",
        "print(ratings.head())\n",
        "\n",
        "## We have 100k ratings for different user and movie combinations. Now finally examine the items file.\n",
        "\n",
        "# Item Data\n",
        "print(\"\\nItem Data:\")\n",
        "print(\"Shape: \", items.shape)\n",
        "print(items.head())\n"
      ],
      "metadata": {
        "colab": {
          "base_uri": "https://localhost:8080/"
        },
        "id": "uTiKKZD5m45X",
        "outputId": "2c5ddb13-396a-4e28-8f97-5be2532b767d"
      },
      "execution_count": null,
      "outputs": [
        {
          "output_type": "stream",
          "name": "stdout",
          "text": [
            "\n",
            "User Data:\n",
            "Shape:  (943, 5)\n",
            "   user_id  age sex  occupation zip_code\n",
            "0        1   24   M  technician    85711\n",
            "1        2   53   F       other    94043\n",
            "2        3   23   M      writer    32067\n",
            "3        4   24   M  technician    43537\n",
            "4        5   33   F       other    15213\n",
            "\n",
            "Ratings Data:\n",
            "Shape:  (100000, 4)\n",
            "   user_id  movie_id  rating  unix_timestamp\n",
            "0      196       242       3       881250949\n",
            "1      186       302       3       891717742\n",
            "2       22       377       1       878887116\n",
            "3      244        51       2       880606923\n",
            "4      166       346       1       886397596\n",
            "\n",
            "Item Data:\n",
            "Shape:  (1682, 24)\n",
            "   movie_id        movie_title release_date  video_release_date  \\\n",
            "0         1   Toy Story (1995)  01-Jan-1995                 NaN   \n",
            "1         2   GoldenEye (1995)  01-Jan-1995                 NaN   \n",
            "2         3  Four Rooms (1995)  01-Jan-1995                 NaN   \n",
            "3         4  Get Shorty (1995)  01-Jan-1995                 NaN   \n",
            "4         5     Copycat (1995)  01-Jan-1995                 NaN   \n",
            "\n",
            "                                            IMDb_URL  unknown  Action  \\\n",
            "0  http://us.imdb.com/M/title-exact?Toy%20Story%2...        0       0   \n",
            "1  http://us.imdb.com/M/title-exact?GoldenEye%20(...        0       1   \n",
            "2  http://us.imdb.com/M/title-exact?Four%20Rooms%...        0       0   \n",
            "3  http://us.imdb.com/M/title-exact?Get%20Shorty%...        0       1   \n",
            "4  http://us.imdb.com/M/title-exact?Copycat%20(1995)        0       0   \n",
            "\n",
            "   Adventure  Animation  Children's  ...  Fantasy  Film-Noir  Horror  Musical  \\\n",
            "0          0          1           1  ...        0          0       0        0   \n",
            "1          1          0           0  ...        0          0       0        0   \n",
            "2          0          0           0  ...        0          0       0        0   \n",
            "3          0          0           0  ...        0          0       0        0   \n",
            "4          0          0           0  ...        0          0       0        0   \n",
            "\n",
            "   Mystery  Romance  Sci-Fi  Thriller  War  Western  \n",
            "0        0        0       0         0    0        0  \n",
            "1        0        0       0         1    0        0  \n",
            "2        0        0       0         1    0        0  \n",
            "3        0        0       0         0    0        0  \n",
            "4        0        0       0         1    0        0  \n",
            "\n",
            "[5 rows x 24 columns]\n"
          ]
        }
      ]
    },
    {
      "cell_type": "markdown",
      "source": [
        "# Data Preprocessing:"
      ],
      "metadata": {
        "id": "17Jsx3ht5MZB"
      }
    },
    {
      "cell_type": "code",
      "source": [
        "# Modify the ratings DataFrame\n",
        "ratings['user_id'] = ratings['user_id'].astype(str).astype(int)\n",
        "ratings['movie_id'] = ratings['movie_id'].astype(str).astype(int)\n",
        "ratings['rating'] = ratings['rating'].astype(str).astype(float)\n",
        "ratings['unix_timestamp'] = pd.to_datetime(ratings['unix_timestamp'], unit='s').apply(lambda x: x.strftime(\"%m/%d/%Y, %H:%M:%S\"))\n",
        "\n",
        "# Display the modified Ratings Data\n",
        "print(\"\\nModified Ratings Data:\")\n",
        "print(\"Shape: \", ratings.shape)\n",
        "print(ratings.head())"
      ],
      "metadata": {
        "colab": {
          "base_uri": "https://localhost:8080/"
        },
        "id": "kjcU6rj-m47r",
        "outputId": "981ff803-6a96-4998-fc3c-fa95220d03a6"
      },
      "execution_count": null,
      "outputs": [
        {
          "output_type": "stream",
          "name": "stdout",
          "text": [
            "\n",
            "Modified Ratings Data:\n",
            "Shape:  (100000, 4)\n",
            "   user_id  movie_id  rating        unix_timestamp\n",
            "0      196       242     3.0  12/04/1997, 15:55:49\n",
            "1      186       302     3.0  04/04/1998, 19:22:22\n",
            "2       22       377     1.0  11/07/1997, 07:18:36\n",
            "3      244        51     2.0  11/27/1997, 05:02:03\n",
            "4      166       346     1.0  02/02/1998, 05:33:16\n"
          ]
        }
      ]
    },
    {
      "cell_type": "markdown",
      "source": [
        "# Exploratory Data Analysis (EDA):"
      ],
      "metadata": {
        "id": "iFNqEHj95Vqv"
      }
    },
    {
      "cell_type": "code",
      "source": [
        "n_users = ratings['user_id'].nunique()\n",
        "n_movies = ratings['movie_id'].nunique()\n",
        "n_ratings = len(ratings)\n",
        "avg_ratings_per_user = n_ratings / n_users\n",
        "\n",
        "print('Number of unique users: ', n_users)\n",
        "print('Number of unique movies: ', n_movies)\n",
        "print('Number of total ratings: ', n_ratings)\n",
        "print('Average number of ratings per user: ', avg_ratings_per_user)"
      ],
      "metadata": {
        "colab": {
          "base_uri": "https://localhost:8080/"
        },
        "id": "sEUxEDKMm4-L",
        "outputId": "b3b32669-31b2-48c7-c487-0c612786ef18"
      },
      "execution_count": null,
      "outputs": [
        {
          "output_type": "stream",
          "name": "stdout",
          "text": [
            "Number of unique users:  943\n",
            "Number of unique movies:  1682\n",
            "Number of total ratings:  100000\n",
            "Average number of ratings per user:  106.04453870625663\n"
          ]
        }
      ]
    },
    {
      "cell_type": "code",
      "source": [
        "movieIndex = ratings.groupby(\"movie_id\").count().sort_values(by=\"rating\", ascending=False).head(1000).index #Finds the top 1000 movies with the most ratings in the original dataset (ratings).The result is an index (a list of movie IDs) for these top movies.\n",
        "ratingDFX2 = ratings[ratings.movie_id.isin(movieIndex)] #Creates a new DataFrame (ratingDFX2) containing only the rows from the original dataset where the movie ID is in the movieIndex.This effectively filters the original dataset to include only the most popular 1000 movies.\n",
        "print(ratingDFX2.count())"
      ],
      "metadata": {
        "colab": {
          "base_uri": "https://localhost:8080/"
        },
        "id": "qVCZVeclm5Ab",
        "outputId": "1bdc5219-b597-4487-e3ff-b037c0a3cb1d"
      },
      "execution_count": null,
      "outputs": [
        {
          "output_type": "stream",
          "name": "stdout",
          "text": [
            "user_id           96056\n",
            "movie_id          96056\n",
            "rating            96056\n",
            "unix_timestamp    96056\n",
            "dtype: int64\n"
          ]
        }
      ]
    },
    {
      "cell_type": "code",
      "source": [
        "userIndex = ratingDFX2.groupby(\"user_id\").count().sort_values(by=\"rating\", ascending=False)#Finds the top 1000 users who have rated movies in the ratingDFX2 dataset.This is done by grouping the dataset by user ID, counting the number of ratings for each user, sorting in descending order, and then randomly selecting 1000 users (or all users if there are fewer than 1000).\n",
        "userIndex = userIndex.sample(n=min(1000, len(userIndex)), random_state=2018).index\n",
        "ratingDFX3 = ratingDFX2[ratingDFX2.user_id.isin(userIndex)] #Creates another DataFrame (ratingDFX3) containing only the rows from ratingDFX2 where the user ID is in the userIndex.This narrows down the dataset to include ratings from the most active 1000 users who have rated the most popular 1000 movies.\n",
        "print(ratingDFX3.count())"
      ],
      "metadata": {
        "colab": {
          "base_uri": "https://localhost:8080/"
        },
        "id": "XBwSc8Bkm5D1",
        "outputId": "e7062079-e0cb-4a03-d1a1-020cf24dd6cf"
      },
      "execution_count": null,
      "outputs": [
        {
          "output_type": "stream",
          "name": "stdout",
          "text": [
            "user_id           96056\n",
            "movie_id          96056\n",
            "rating            96056\n",
            "unix_timestamp    96056\n",
            "dtype: int64\n"
          ]
        }
      ]
    },
    {
      "cell_type": "markdown",
      "source": [
        "Let’s also reindex movieID and userID to a range of 1 to 1,000 for our reduced dataset:"
      ],
      "metadata": {
        "id": "xyZ90H63rOj1"
      }
    },
    {
      "cell_type": "code",
      "source": [
        "movies = ratingDFX3['movie_id'].unique() #Extracts unique movie IDs from the ratingDFX3 dataset.\n",
        "moviesDF = pd.DataFrame(data=movies, columns=['originalMovieId'])\n",
        "moviesDF['newMovieId'] = moviesDF.index + 1 #Creates a new DataFrame (moviesDF) with two columns: 'originalMovieId' (containing unique movie IDs) and 'newMovieId' (a sequential index starting from 1).\n",
        "\n",
        "# Display the modified DataFrame\n",
        "print(moviesDF.head())"
      ],
      "metadata": {
        "colab": {
          "base_uri": "https://localhost:8080/"
        },
        "id": "H89-JGAtqtrD",
        "outputId": "cf104609-7da7-416a-928b-8c1cbf98129f"
      },
      "execution_count": null,
      "outputs": [
        {
          "output_type": "stream",
          "name": "stdout",
          "text": [
            "   originalMovieId  newMovieId\n",
            "0              242           1\n",
            "1              302           2\n",
            "2               51           3\n",
            "3              346           4\n",
            "4              474           5\n"
          ]
        }
      ]
    },
    {
      "cell_type": "code",
      "source": [
        "users = ratingDFX3['user_id'].unique()\n",
        "usersDF = pd.DataFrame(data=users, columns=['originalUserId'])\n",
        "usersDF['newUserId'] = usersDF.index + 1\n",
        "\n",
        "# Display the modified DataFrame\n",
        "print(usersDF.head())"
      ],
      "metadata": {
        "colab": {
          "base_uri": "https://localhost:8080/"
        },
        "id": "NZ9TxFQMrlr2",
        "outputId": "1ef234f5-65d9-4668-9a1e-3b9c0a6718c7"
      },
      "execution_count": null,
      "outputs": [
        {
          "output_type": "stream",
          "name": "stdout",
          "text": [
            "   originalUserId  newUserId\n",
            "0             196          1\n",
            "1             186          2\n",
            "2             244          3\n",
            "3             166          4\n",
            "4             298          5\n"
          ]
        }
      ]
    },
    {
      "cell_type": "code",
      "source": [
        "ratingDFX3 = ratingDFX3.merge(moviesDF, left_on='movie_id', right_on='originalMovieId') #Merges the ratingDFX3 DataFrame with the moviesDF DataFrame on the 'movie_id' and 'originalMovieId' columns, respectively.\n",
        "ratingDFX3.drop(labels='originalMovieId', axis=1, inplace=True)#Drops the 'originalMovieId' column from the merged DataFrame.\n",
        "\n",
        "ratingDFX3 = ratingDFX3.merge(usersDF, left_on='user_id', right_on='originalUserId')#Merges the previously merged DataFrame with the usersDF DataFrame on the 'user_id' and 'originalUserId' columns, respectively.\n",
        "ratingDFX3.drop(labels='originalUserId', axis=1, inplace=True)#Drops the 'originalUserId' column from the final merged DataFrame.\n",
        "\n",
        "# Display the modified DataFrame\n",
        "print(ratingDFX3.head())"
      ],
      "metadata": {
        "colab": {
          "base_uri": "https://localhost:8080/"
        },
        "id": "C2xNxxeMroI6",
        "outputId": "742cd4c2-79ba-41cd-8a69-d02857a9ed46"
      },
      "execution_count": null,
      "outputs": [
        {
          "output_type": "stream",
          "name": "stdout",
          "text": [
            "   user_id  movie_id  rating        unix_timestamp  newMovieId  newUserId\n",
            "0      196       242     3.0  12/04/1997, 15:55:49           1          1\n",
            "1      196       257     2.0  12/04/1997, 16:06:17          10          1\n",
            "2      196       111     4.0  12/04/1997, 16:09:53          81          1\n",
            "3      196        25     4.0  12/04/1997, 16:12:35          84          1\n",
            "4      196       382     4.0  12/04/1997, 16:10:43          90          1\n"
          ]
        }
      ]
    },
    {
      "cell_type": "markdown",
      "source": [
        "Let’s calculate the number of unique users, unique movies, total ratings, and average number of ratings per user for our reduced dataset:"
      ],
      "metadata": {
        "id": "HFI6_M-orzav"
      }
    },
    {
      "cell_type": "code",
      "source": [
        "n_users = ratingDFX3['user_id'].nunique()\n",
        "n_movies = ratingDFX3['movie_id'].nunique()\n",
        "n_ratings = len(ratingDFX3)\n",
        "avg_ratings_per_user = n_ratings / n_users\n",
        "\n",
        "print('Number of unique users: ', n_users)\n",
        "print('Number of unique movies: ', n_movies)\n",
        "print('Number of total ratings: ', n_ratings)\n",
        "print('Average number of ratings per user: ', avg_ratings_per_user)"
      ],
      "metadata": {
        "colab": {
          "base_uri": "https://localhost:8080/"
        },
        "id": "EXAvhfCQrwTv",
        "outputId": "89f605bb-12b0-46e3-a099-aeb96aa2fe88"
      },
      "execution_count": null,
      "outputs": [
        {
          "output_type": "stream",
          "name": "stdout",
          "text": [
            "Number of unique users:  943\n",
            "Number of unique movies:  1000\n",
            "Number of total ratings:  96056\n",
            "Average number of ratings per user:  101.86214209968186\n"
          ]
        }
      ]
    },
    {
      "cell_type": "markdown",
      "source": [
        "Let’s generate a test set and a validation set from this reduced dataset so that each holdout set is 5% of the reduced dataset:"
      ],
      "metadata": {
        "id": "qlWwHU_isEFB"
      }
    },
    {
      "cell_type": "markdown",
      "source": [
        "# Train-Test Split:"
      ],
      "metadata": {
        "id": "Y1ae7Zpv5i8D"
      }
    },
    {
      "cell_type": "code",
      "source": [
        "from sklearn.model_selection import train_test_split\n",
        "\n",
        "X_train, X_test = train_test_split(ratingDFX3, test_size=0.10, shuffle=True, random_state=2018)\n",
        "X_validation, X_test = train_test_split(X_test, test_size=0.50, shuffle=True, random_state=2018)\n",
        "\n",
        "print('Shape of train set:', X_train.shape)\n",
        "print('Shape of validation set:', X_validation.shape)\n",
        "print('Shape of test set: ', X_test.shape)\n",
        "\n",
        "print('Size of train set:', X_train.size)\n",
        "print('Size of validation set:', X_validation.size)\n",
        "print('Size of test set: ', X_test.size)\n"
      ],
      "metadata": {
        "colab": {
          "base_uri": "https://localhost:8080/"
        },
        "id": "ytcespu1sA81",
        "outputId": "3456a7c0-b2c1-4a18-f179-c20eb07d72f0"
      },
      "execution_count": null,
      "outputs": [
        {
          "output_type": "stream",
          "name": "stdout",
          "text": [
            "Shape of train set: (86450, 6)\n",
            "Shape of validation set: (4803, 6)\n",
            "Shape of test set:  (4803, 6)\n",
            "Size of train set: 518700\n",
            "Size of validation set: 28818\n",
            "Size of test set:  28818\n"
          ]
        }
      ]
    },
    {
      "cell_type": "markdown",
      "source": [
        "Define the Cost Function: Mean Squared Error"
      ],
      "metadata": {
        "id": "p1vB17R4sb8c"
      }
    },
    {
      "cell_type": "markdown",
      "source": [
        "This code is part of the process of preparing the user-item interaction matrices for training, validation, and test sets. Let me break down what each part of the code does:\n",
        "\n",
        "Training Set (ratings_train):\n",
        "\n",
        "ratings_train = np.zeros((n_users, n_movies)): Initializes a matrix of zeros with dimensions (number of users) x (number of movies).\n",
        "for row in X_train.itertuples():: Iterates over each row in the training set.\n",
        "ratings_train[int(row[6]) - 1, int(row[5]) - 1] = float(row[3]): Assigns the rating (converted to float) from the training set to the corresponding position in the ratings_train matrix. The row[6] is the user index, row[5] is the movie index, and row[3] is the rating.\n",
        "Sparsity Calculation for Training Set:\n",
        "\n",
        "sparsity_train = float(len(ratings_train.nonzero()[0])): Calculates the number of non-zero elements in the ratings_train matrix (i.e., the number of rated items).\n",
        "sparsity_train /= (ratings_train.shape[0] * ratings_train.shape[1]): Divides the number of non-zero elements by the total number of elements in the matrix to get the sparsity as a percentage.\n",
        "print('Sparsity for train set: {:4.2f}%'.format(sparsity_train)): Prints the sparsity percentage for the training set.\n",
        "\n",
        "Validation Set (ratings_validation):\n",
        "\n",
        "ratings_validation = np.zeros((n_users, n_movies)): Initializes a similar matrix for the validation set.\n",
        "for row in X_validation.itertuples():: Iterates over each row in the validation set.\n",
        "ratings_validation[int(row[6]) - 1, int(row[5]) - 1] = float(row[3]): Assigns the rating (converted to float) from the validation set to the corresponding position in the ratings_validation matrix.\n",
        "Test Set (ratings_test):\n",
        "\n",
        "ratings_test = np.zeros((n_users, n_movies)): Initializes a similar matrix for the test set.\n",
        "for row in X_test.itertuples():: Iterates over each row in the test set.\n",
        "ratings_test[int(row[6]) - 1, int(row[5]) - 1] = float(row[3]): Assigns the rating (converted to float) from the test set to the corresponding position in the ratings_test matrix."
      ],
      "metadata": {
        "id": "m8uKxKclBI5H"
      }
    },
    {
      "cell_type": "code",
      "source": [
        "# Convert the 'rating' column to float before assigning to the ratings matrix\n",
        "ratings_train = np.zeros((n_users, n_movies))\n",
        "for row in X_train.itertuples():\n",
        "    ratings_train[int(row[6]) - 1, int(row[5]) - 1] = float(row[3])\n",
        "\n",
        "sparsity_train = float(len(ratings_train.nonzero()[0]))\n",
        "sparsity_train /= (ratings_train.shape[0] * ratings_train.shape[1])\n",
        "sparsity_train *= 100\n",
        "print('Sparsity for train set: {:4.2f}%'.format(sparsity_train))"
      ],
      "metadata": {
        "colab": {
          "base_uri": "https://localhost:8080/"
        },
        "id": "iCtoJw_7sXuh",
        "outputId": "d389933e-29ac-42c9-984b-95b4361d38e8"
      },
      "execution_count": null,
      "outputs": [
        {
          "output_type": "stream",
          "name": "stdout",
          "text": [
            "Sparsity for train set: 9.17%\n"
          ]
        }
      ]
    },
    {
      "cell_type": "code",
      "source": [
        "# Convert the 'rating' column to float for validation set\n",
        "ratings_validation = np.zeros((n_users, n_movies))\n",
        "for row in X_validation.itertuples():\n",
        "    ratings_validation[int(row[6]) - 1, int(row[5]) - 1] = float(row[3])\n",
        "\n",
        "# Convert the 'rating' column to float for test set\n",
        "ratings_test = np.zeros((n_users, n_movies))\n",
        "for row in X_test.itertuples():\n",
        "    ratings_test[int(row[6]) - 1, int(row[5]) - 1] = float(row[3])"
      ],
      "metadata": {
        "id": "0tBi4BsmtG37"
      },
      "execution_count": null,
      "outputs": []
    },
    {
      "cell_type": "markdown",
      "source": [
        "Perform Baseline Experiments: Predicting ratings and Evaluating the performance using Mean Squared Error (MSE)."
      ],
      "metadata": {
        "id": "-4xF7C7Wtv9Z"
      }
    },
    {
      "cell_type": "markdown",
      "source": [
        "#Initialize Predictions for Validation Set"
      ],
      "metadata": {
        "id": "vdq_QpHEEAaF"
      }
    },
    {
      "cell_type": "code",
      "source": [
        "pred_validation = np.zeros((len(X_validation),1)) #Initializes an array pred_validation with zeros.\n",
        "pred_validation[pred_validation==0] = 3.5 #Sets all zero elements in the array to a constant value (3.5 in this case). This step is essentially making a constant prediction for all items in the validation set.\n",
        "pred_validation"
      ],
      "metadata": {
        "colab": {
          "base_uri": "https://localhost:8080/"
        },
        "id": "V5zVmxiZtzyZ",
        "outputId": "7f1f041f-5108-44d0-a9b0-85579d77fe86"
      },
      "execution_count": null,
      "outputs": [
        {
          "output_type": "execute_result",
          "data": {
            "text/plain": [
              "array([[3.5],\n",
              "       [3.5],\n",
              "       [3.5],\n",
              "       ...,\n",
              "       [3.5],\n",
              "       [3.5],\n",
              "       [3.5]])"
            ]
          },
          "metadata": {},
          "execution_count": 33
        }
      ]
    },
    {
      "cell_type": "markdown",
      "source": [
        "Calculate Mean Squared Error for Constant Prediction:"
      ],
      "metadata": {
        "id": "KgQMepqvEIcN"
      }
    },
    {
      "cell_type": "code",
      "source": [
        "actual_validation = ratings_validation[ratings_validation.nonzero()].flatten()\n",
        "print(\"Mean Squared Error is : \", mean_squared_error(pred_validation, actual_validation))"
      ],
      "metadata": {
        "colab": {
          "base_uri": "https://localhost:8080/"
        },
        "id": "ADfurpxltpR8",
        "outputId": "5d98a978-432e-4cae-aae9-68e54bc61dbb"
      },
      "execution_count": null,
      "outputs": [
        {
          "output_type": "stream",
          "name": "stdout",
          "text": [
            "Mean Squared Error is :  1.2318863210493443\n"
          ]
        }
      ]
    },
    {
      "cell_type": "markdown",
      "source": [
        "User Average Prediction:"
      ],
      "metadata": {
        "id": "_F0uIRRdDuAA"
      }
    },
    {
      "cell_type": "code",
      "source": [
        "#Initializes a matrix (ratings_validation_prediction) with zeros for user average prediction.\n",
        "#Computes the mean of each user's ratings (excluding zeros) from the training set and fills the corresponding rows in the prediction matrix.\n",
        "#Calculates and prints the MSE between user average predictions and actual ratings.\n",
        "\n",
        "ratings_validation_prediction = np.zeros((n_users, n_movies))\n",
        "i = 0\n",
        "for row in ratings_train:\n",
        "    ratings_validation_prediction[i][ratings_validation_prediction[i] == 0] = np.mean(row[row > 0])\n",
        "    i += 1\n",
        "pred_validation = ratings_validation_prediction[ratings_validation.nonzero()].flatten()\n",
        "user_average = mean_squared_error(pred_validation, actual_validation)\n",
        "print('Mean squared error using user average:', user_average)\n"
      ],
      "metadata": {
        "colab": {
          "base_uri": "https://localhost:8080/"
        },
        "id": "OabIntqzt4-S",
        "outputId": "ba1fbb54-64fa-4928-dabe-c55c92371655"
      },
      "execution_count": null,
      "outputs": [
        {
          "output_type": "stream",
          "name": "stdout",
          "text": [
            "Mean squared error using user average: 1.0707166841893025\n"
          ]
        }
      ]
    },
    {
      "cell_type": "markdown",
      "source": [
        "Movie Average Prediction:"
      ],
      "metadata": {
        "id": "oyU6YNj_Dx0c"
      }
    },
    {
      "cell_type": "code",
      "source": [
        "#Initializes a transposed matrix (ratings_validation_prediction) with zeros for movie average prediction.\n",
        "#Computes the mean of each movie's ratings (excluding zeros) from the training set and fills the corresponding columns in the transposed prediction matrix.\n",
        "#Transposes the matrix back and calculates the MSE between movie average predictions and actual ratings.\n",
        "\n",
        "\n",
        "ratings_validation_prediction = np.zeros((n_users, n_movies)).T\n",
        "i = 0\n",
        "for row in ratings_train.T:\n",
        "    ratings_validation_prediction[i][ratings_validation_prediction[i] == 0] = np.mean(row[row > 0])\n",
        "    i += 1\n",
        "ratings_validation_prediction = ratings_validation_prediction.T\n",
        "pred_validation = ratings_validation_prediction[ratings_validation.nonzero()].flatten()\n",
        "movie_average = mean_squared_error(pred_validation, actual_validation)\n",
        "print('Mean squared error using movie average:', movie_average)"
      ],
      "metadata": {
        "colab": {
          "base_uri": "https://localhost:8080/"
        },
        "id": "QuqG4smzt_ic",
        "outputId": "ce3bbf84-6aeb-45c4-bce8-475c20d9a2e0"
      },
      "execution_count": null,
      "outputs": [
        {
          "output_type": "stream",
          "name": "stdout",
          "text": [
            "Mean squared error using movie average: 1.003151856045601\n"
          ]
        }
      ]
    },
    {
      "cell_type": "markdown",
      "source": [
        "Matrix Factorization: In this step, you are creating a collaborative filtering model using matrix factorization.\n",
        "\n",
        "In the context of recommendation systems, we often have a matrix representing the interactions between users and items. Each entry in the matrix corresponds to a user's rating (or some form of interaction) for a particular item.\n",
        "\n",
        "Matrix factorization aims to decompose this matrix into two lower-dimensional matrices: one representing users and the other representing items. These matrices are called user and item embeddings.\n",
        "\n",
        "Input: Defines input layers for users and movies. Each input represents a user or a movie.\n",
        "\n",
        "Embedding: These layers are like lookup tables that transform user and movie IDs into dense vectors (embeddings). The input_dim is the number of unique users or movies, and output_dim is the dimensionality of the embedding space.\n",
        "\n",
        "Flatten: Converts the output of the embedding layers into flat vectors. This is necessary for subsequent operations.\n",
        "\n",
        "Dot Product Layer:\n",
        "dot: Performs the dot product of the user and movie vectors. This operation is a key part of collaborative filtering, as it captures the interaction between users and items.\n"
      ],
      "metadata": {
        "id": "YUM-P_-r_Ls9"
      }
    },
    {
      "cell_type": "code",
      "source": [
        "from keras.models import Model\n",
        "from keras.layers import Input, Embedding, Flatten, dot, BatchNormalization\n",
        "from keras.regularizers import l2\n",
        "from keras.optimizers import Adam, RMSprop\n",
        "\n",
        "n_latent_factors = 10\n",
        "\n",
        "# Define input layers\n",
        "user_input = Input(shape=[1], name='user')\n",
        "movie_input = Input(shape=[1], name='movie')\n",
        "\n",
        "# Embedding layers with regularization\n",
        "user_embedding = Embedding(input_dim=n_users + 1, output_dim=n_latent_factors, name='user_embedding', embeddings_regularizer=l2(1e-5))(user_input)\n",
        "movie_embedding = Embedding(input_dim=n_movies + 1, output_dim=n_latent_factors, name='movie_embedding', embeddings_regularizer=l2(1e-5))(movie_input)\n",
        "\n",
        "# Flatten embeddings\n",
        "user_vec = Flatten(name='flatten_users')(user_embedding)\n",
        "movie_vec = Flatten(name='flatten_movies')(movie_embedding)\n",
        "\n",
        "# Batch normalization\n",
        "user_vec_normalized = BatchNormalization()(user_vec)\n",
        "movie_vec_normalized = BatchNormalization()(movie_vec)\n",
        "\n",
        "# Dot product to calculate product\n",
        "product = dot([movie_vec_normalized, user_vec_normalized], axes=1)\n",
        "\n",
        "# Define the model\n",
        "model = Model(inputs=[user_input, movie_input], outputs=product)\n",
        "\n",
        "from keras.callbacks import ReduceLROnPlateau\n",
        "\n",
        "# Define a learning rate scheduler\n",
        "reduce_lr = ReduceLROnPlateau(monitor='val_loss', factor=0.2, patience=5, min_lr=0.0001)\n",
        "\n",
        "\n",
        "# Compile the model with Adam optimizer and mean squared error loss\n",
        "model.compile(optimizer=Adam(learning_rate=0.001), loss='mean_squared_error')"
      ],
      "metadata": {
        "id": "lq5L-AUNgD79"
      },
      "execution_count": null,
      "outputs": []
    },
    {
      "cell_type": "markdown",
      "source": [
        "Training a collaborative filtering model using matrix factorization with embeddings."
      ],
      "metadata": {
        "id": "i0rAc7DyEVxN"
      }
    },
    {
      "cell_type": "code",
      "source": [
        "# Train the model with the learning rate scheduler\n",
        "history = model.fit(\n",
        "    x=[X_train.newUserId, X_train.newMovieId],\n",
        "    y=X_train.rating,\n",
        "    epochs=50,\n",
        "    validation_data=([X_validation.newUserId, X_validation.newMovieId], X_validation.rating),\n",
        "    callbacks=[reduce_lr],  # Add the learning rate scheduler\n",
        "    verbose=1\n",
        ")"
      ],
      "metadata": {
        "colab": {
          "base_uri": "https://localhost:8080/"
        },
        "id": "pbO5XEbCuHo8",
        "outputId": "f8934860-cea0-4fa3-e9ef-9f03eece606b"
      },
      "execution_count": null,
      "outputs": [
        {
          "output_type": "stream",
          "name": "stdout",
          "text": [
            "Epoch 1/50\n",
            "2702/2702 [==============================] - 18s 5ms/step - loss: 2.9986 - val_loss: 0.9635 - lr: 0.0010\n",
            "Epoch 2/50\n",
            "2702/2702 [==============================] - 14s 5ms/step - loss: 0.9161 - val_loss: 0.9085 - lr: 0.0010\n",
            "Epoch 3/50\n",
            "2702/2702 [==============================] - 14s 5ms/step - loss: 0.8864 - val_loss: 0.8567 - lr: 0.0010\n",
            "Epoch 4/50\n",
            "2702/2702 [==============================] - 15s 5ms/step - loss: 0.8593 - val_loss: 0.8430 - lr: 0.0010\n",
            "Epoch 5/50\n",
            "2702/2702 [==============================] - 15s 5ms/step - loss: 0.8378 - val_loss: 0.8376 - lr: 0.0010\n",
            "Epoch 6/50\n",
            "2702/2702 [==============================] - 14s 5ms/step - loss: 0.8247 - val_loss: 0.8362 - lr: 0.0010\n",
            "Epoch 7/50\n",
            "2702/2702 [==============================] - 14s 5ms/step - loss: 0.8166 - val_loss: 0.8323 - lr: 0.0010\n",
            "Epoch 8/50\n",
            "2702/2702 [==============================] - 14s 5ms/step - loss: 0.8038 - val_loss: 0.8324 - lr: 0.0010\n",
            "Epoch 9/50\n",
            "2702/2702 [==============================] - 13s 5ms/step - loss: 0.7962 - val_loss: 0.8344 - lr: 0.0010\n",
            "Epoch 10/50\n",
            "2702/2702 [==============================] - 13s 5ms/step - loss: 0.7866 - val_loss: 0.8334 - lr: 0.0010\n",
            "Epoch 11/50\n",
            "2702/2702 [==============================] - 13s 5ms/step - loss: 0.7746 - val_loss: 0.8418 - lr: 0.0010\n",
            "Epoch 12/50\n",
            "2702/2702 [==============================] - 13s 5ms/step - loss: 0.7728 - val_loss: 0.8390 - lr: 0.0010\n",
            "Epoch 13/50\n",
            "2702/2702 [==============================] - 13s 5ms/step - loss: 0.7360 - val_loss: 0.8405 - lr: 2.0000e-04\n",
            "Epoch 14/50\n",
            "2702/2702 [==============================] - 13s 5ms/step - loss: 0.7329 - val_loss: 0.8435 - lr: 2.0000e-04\n",
            "Epoch 15/50\n",
            "2702/2702 [==============================] - 13s 5ms/step - loss: 0.7288 - val_loss: 0.8444 - lr: 2.0000e-04\n",
            "Epoch 16/50\n",
            "2702/2702 [==============================] - 14s 5ms/step - loss: 0.7275 - val_loss: 0.8422 - lr: 2.0000e-04\n",
            "Epoch 17/50\n",
            "2702/2702 [==============================] - 14s 5ms/step - loss: 0.7285 - val_loss: 0.8428 - lr: 2.0000e-04\n",
            "Epoch 18/50\n",
            "2702/2702 [==============================] - 13s 5ms/step - loss: 0.7204 - val_loss: 0.8449 - lr: 1.0000e-04\n",
            "Epoch 19/50\n",
            "2702/2702 [==============================] - 14s 5ms/step - loss: 0.7206 - val_loss: 0.8437 - lr: 1.0000e-04\n",
            "Epoch 20/50\n",
            "2702/2702 [==============================] - 14s 5ms/step - loss: 0.7197 - val_loss: 0.8463 - lr: 1.0000e-04\n",
            "Epoch 21/50\n",
            "2702/2702 [==============================] - 14s 5ms/step - loss: 0.7188 - val_loss: 0.8466 - lr: 1.0000e-04\n",
            "Epoch 22/50\n",
            "2702/2702 [==============================] - 14s 5ms/step - loss: 0.7169 - val_loss: 0.8445 - lr: 1.0000e-04\n",
            "Epoch 23/50\n",
            "2702/2702 [==============================] - 14s 5ms/step - loss: 0.7184 - val_loss: 0.8468 - lr: 1.0000e-04\n",
            "Epoch 24/50\n",
            "2702/2702 [==============================] - 14s 5ms/step - loss: 0.7154 - val_loss: 0.8468 - lr: 1.0000e-04\n",
            "Epoch 25/50\n",
            "2702/2702 [==============================] - 15s 5ms/step - loss: 0.7156 - val_loss: 0.8471 - lr: 1.0000e-04\n",
            "Epoch 26/50\n",
            "2702/2702 [==============================] - 15s 6ms/step - loss: 0.7150 - val_loss: 0.8463 - lr: 1.0000e-04\n",
            "Epoch 27/50\n",
            "2702/2702 [==============================] - 15s 6ms/step - loss: 0.7160 - val_loss: 0.8469 - lr: 1.0000e-04\n",
            "Epoch 28/50\n",
            "2702/2702 [==============================] - 15s 5ms/step - loss: 0.7127 - val_loss: 0.8478 - lr: 1.0000e-04\n",
            "Epoch 29/50\n",
            "2702/2702 [==============================] - 14s 5ms/step - loss: 0.7116 - val_loss: 0.8477 - lr: 1.0000e-04\n",
            "Epoch 30/50\n",
            "2702/2702 [==============================] - 14s 5ms/step - loss: 0.7119 - val_loss: 0.8495 - lr: 1.0000e-04\n",
            "Epoch 31/50\n",
            "2702/2702 [==============================] - 14s 5ms/step - loss: 0.7130 - val_loss: 0.8486 - lr: 1.0000e-04\n",
            "Epoch 32/50\n",
            "2702/2702 [==============================] - 13s 5ms/step - loss: 0.7123 - val_loss: 0.8486 - lr: 1.0000e-04\n",
            "Epoch 33/50\n",
            "2702/2702 [==============================] - 13s 5ms/step - loss: 0.7117 - val_loss: 0.8483 - lr: 1.0000e-04\n",
            "Epoch 34/50\n",
            "2702/2702 [==============================] - 13s 5ms/step - loss: 0.7103 - val_loss: 0.8488 - lr: 1.0000e-04\n",
            "Epoch 35/50\n",
            "2702/2702 [==============================] - 13s 5ms/step - loss: 0.7086 - val_loss: 0.8495 - lr: 1.0000e-04\n",
            "Epoch 36/50\n",
            "2702/2702 [==============================] - 13s 5ms/step - loss: 0.7073 - val_loss: 0.8513 - lr: 1.0000e-04\n",
            "Epoch 37/50\n",
            "2702/2702 [==============================] - 13s 5ms/step - loss: 0.7067 - val_loss: 0.8498 - lr: 1.0000e-04\n",
            "Epoch 38/50\n",
            "2702/2702 [==============================] - 12s 4ms/step - loss: 0.7063 - val_loss: 0.8483 - lr: 1.0000e-04\n",
            "Epoch 39/50\n",
            "2702/2702 [==============================] - 12s 5ms/step - loss: 0.7070 - val_loss: 0.8501 - lr: 1.0000e-04\n",
            "Epoch 40/50\n",
            "2702/2702 [==============================] - 12s 4ms/step - loss: 0.7062 - val_loss: 0.8519 - lr: 1.0000e-04\n",
            "Epoch 41/50\n",
            "2702/2702 [==============================] - 12s 5ms/step - loss: 0.7057 - val_loss: 0.8510 - lr: 1.0000e-04\n",
            "Epoch 42/50\n",
            "2702/2702 [==============================] - 13s 5ms/step - loss: 0.7041 - val_loss: 0.8524 - lr: 1.0000e-04\n",
            "Epoch 43/50\n",
            "2702/2702 [==============================] - 13s 5ms/step - loss: 0.7021 - val_loss: 0.8533 - lr: 1.0000e-04\n",
            "Epoch 44/50\n",
            "2702/2702 [==============================] - 12s 5ms/step - loss: 0.7014 - val_loss: 0.8540 - lr: 1.0000e-04\n",
            "Epoch 45/50\n",
            "2702/2702 [==============================] - 13s 5ms/step - loss: 0.7016 - val_loss: 0.8542 - lr: 1.0000e-04\n",
            "Epoch 46/50\n",
            "2702/2702 [==============================] - 13s 5ms/step - loss: 0.7003 - val_loss: 0.8549 - lr: 1.0000e-04\n",
            "Epoch 47/50\n",
            "2702/2702 [==============================] - 13s 5ms/step - loss: 0.7013 - val_loss: 0.8526 - lr: 1.0000e-04\n",
            "Epoch 48/50\n",
            "2702/2702 [==============================] - 13s 5ms/step - loss: 0.6974 - val_loss: 0.8541 - lr: 1.0000e-04\n",
            "Epoch 49/50\n",
            "2702/2702 [==============================] - 13s 5ms/step - loss: 0.6999 - val_loss: 0.8550 - lr: 1.0000e-04\n",
            "Epoch 50/50\n",
            "2702/2702 [==============================] - 13s 5ms/step - loss: 0.6972 - val_loss: 0.8560 - lr: 1.0000e-04\n"
          ]
        }
      ]
    },
    {
      "cell_type": "code",
      "source": [
        "pd.Series(history.history['val_loss'][10:]).plot(logy=False)\n",
        "plt.xlabel(\"Epoch\")\n",
        "plt.ylabel(\"Validation Error\")\n",
        "print('Minimum MSE: ', min(history.history['val_loss'])) #Prints the minimum validation MSE (Mean Squared Error) achieved during the training."
      ],
      "metadata": {
        "colab": {
          "base_uri": "https://localhost:8080/",
          "height": 466
        },
        "id": "GAvzOhZouKHn",
        "outputId": "9a3361d7-aba5-4f01-83cd-be4810e35f72"
      },
      "execution_count": null,
      "outputs": [
        {
          "output_type": "stream",
          "name": "stdout",
          "text": [
            "Minimum MSE:  0.8322848677635193\n"
          ]
        },
        {
          "output_type": "display_data",
          "data": {
            "text/plain": [
              "<Figure size 640x480 with 1 Axes>"
            ],
            "image/png": "[encoded data removed]"
          },
          "metadata": {}
        }
      ]
    },
    {
      "cell_type": "code",
      "source": [
        "# Assuming you have X_test with columns 'newUserId' and 'newMovieId' for your test set\n",
        "predictions = model.predict([X_test.newUserId.head(10), X_test.newMovieId.head(10)])\n",
        "\n",
        "# Display predicted values and actual ratings for the first 10 rows\n",
        "for i in range(10):\n",
        "    print(\"Predicted Rating:\", predictions[i][0], \"Actual Rating:\", X_test.rating.iloc[i])"
      ],
      "metadata": {
        "id": "EIu4xyjUxwcG",
        "colab": {
          "base_uri": "https://localhost:8080/"
        },
        "outputId": "22064f8b-6e09-4287-aed1-5e0c7a7279ca"
      },
      "execution_count": null,
      "outputs": [
        {
          "output_type": "stream",
          "name": "stdout",
          "text": [
            "1/1 [==============================] - 0s 98ms/step\n",
            "Predicted Rating: 1.7429075 Actual Rating: 2.0\n",
            "Predicted Rating: 3.561973 Actual Rating: 4.0\n",
            "Predicted Rating: 2.5494084 Actual Rating: 3.0\n",
            "Predicted Rating: 4.5297737 Actual Rating: 5.0\n",
            "Predicted Rating: 2.6139503 Actual Rating: 3.0\n",
            "Predicted Rating: 2.8416045 Actual Rating: 2.0\n",
            "Predicted Rating: 3.13042 Actual Rating: 3.0\n",
            "Predicted Rating: 4.2009306 Actual Rating: 5.0\n",
            "Predicted Rating: 2.9034264 Actual Rating: 2.0\n",
            "Predicted Rating: 2.9374356 Actual Rating: 4.0\n"
          ]
        }
      ]
    },
    {
      "cell_type": "code",
      "source": [
        "for epoch in range(len(history.history['loss'])):\n",
        "    print(f\"Epoch {epoch + 1} - Training MSE: {history.history['loss'][epoch]}, Validation MSE: {history.history['val_loss'][epoch]}\")"
      ],
      "metadata": {
        "id": "aFEjueTIadio",
        "colab": {
          "base_uri": "https://localhost:8080/"
        },
        "outputId": "1d26047f-749e-452d-dbe4-a5c7565348b6"
      },
      "execution_count": null,
      "outputs": [
        {
          "output_type": "stream",
          "name": "stdout",
          "text": [
            "Epoch 1 - Training MSE: 2.9986412525177, Validation MSE: 0.9635104537010193\n",
            "Epoch 2 - Training MSE: 0.916069507598877, Validation MSE: 0.9085275530815125\n",
            "Epoch 3 - Training MSE: 0.8864465355873108, Validation MSE: 0.8567409515380859\n",
            "Epoch 4 - Training MSE: 0.8592609763145447, Validation MSE: 0.8429956436157227\n",
            "Epoch 5 - Training MSE: 0.8377684950828552, Validation MSE: 0.8376321196556091\n",
            "Epoch 6 - Training MSE: 0.8247496485710144, Validation MSE: 0.8361886739730835\n",
            "Epoch 7 - Training MSE: 0.816638708114624, Validation MSE: 0.8322848677635193\n",
            "Epoch 8 - Training MSE: 0.803838849067688, Validation MSE: 0.8323739767074585\n",
            "Epoch 9 - Training MSE: 0.7961752414703369, Validation MSE: 0.8344066739082336\n",
            "Epoch 10 - Training MSE: 0.7865866422653198, Validation MSE: 0.8333720564842224\n",
            "Epoch 11 - Training MSE: 0.7746322154998779, Validation MSE: 0.8418495059013367\n",
            "Epoch 12 - Training MSE: 0.7728431224822998, Validation MSE: 0.8389699459075928\n",
            "Epoch 13 - Training MSE: 0.7359959483146667, Validation MSE: 0.8405450582504272\n",
            "Epoch 14 - Training MSE: 0.7328678369522095, Validation MSE: 0.8434920310974121\n",
            "Epoch 15 - Training MSE: 0.7287898659706116, Validation MSE: 0.8443729877471924\n",
            "Epoch 16 - Training MSE: 0.72750324010849, Validation MSE: 0.8421886563301086\n",
            "Epoch 17 - Training MSE: 0.7285475730895996, Validation MSE: 0.8428308367729187\n",
            "Epoch 18 - Training MSE: 0.7204253673553467, Validation MSE: 0.8448606729507446\n",
            "Epoch 19 - Training MSE: 0.7206264734268188, Validation MSE: 0.8436698913574219\n",
            "Epoch 20 - Training MSE: 0.7197248935699463, Validation MSE: 0.8463425040245056\n",
            "Epoch 21 - Training MSE: 0.7188225984573364, Validation MSE: 0.8466116189956665\n",
            "Epoch 22 - Training MSE: 0.7169387936592102, Validation MSE: 0.8445361852645874\n",
            "Epoch 23 - Training MSE: 0.7184292078018188, Validation MSE: 0.8467806577682495\n",
            "Epoch 24 - Training MSE: 0.715425431728363, Validation MSE: 0.8468150496482849\n",
            "Epoch 25 - Training MSE: 0.7156071066856384, Validation MSE: 0.8470783829689026\n",
            "Epoch 26 - Training MSE: 0.7150363922119141, Validation MSE: 0.8463318347930908\n",
            "Epoch 27 - Training MSE: 0.7159555554389954, Validation MSE: 0.8468903303146362\n",
            "Epoch 28 - Training MSE: 0.7126776576042175, Validation MSE: 0.8477762341499329\n",
            "Epoch 29 - Training MSE: 0.7116225361824036, Validation MSE: 0.847656786441803\n",
            "Epoch 30 - Training MSE: 0.7119101285934448, Validation MSE: 0.849526047706604\n",
            "Epoch 31 - Training MSE: 0.7129994034767151, Validation MSE: 0.8486294150352478\n",
            "Epoch 32 - Training MSE: 0.7123101949691772, Validation MSE: 0.8485720157623291\n",
            "Epoch 33 - Training MSE: 0.7117082476615906, Validation MSE: 0.8483266234397888\n",
            "Epoch 34 - Training MSE: 0.7102823853492737, Validation MSE: 0.8487629294395447\n",
            "Epoch 35 - Training MSE: 0.7086369395256042, Validation MSE: 0.8495287895202637\n",
            "Epoch 36 - Training MSE: 0.707304060459137, Validation MSE: 0.8512734174728394\n",
            "Epoch 37 - Training MSE: 0.7066770195960999, Validation MSE: 0.8498163819313049\n",
            "Epoch 38 - Training MSE: 0.7063019871711731, Validation MSE: 0.8483178019523621\n",
            "Epoch 39 - Training MSE: 0.7069936394691467, Validation MSE: 0.8500555753707886\n",
            "Epoch 40 - Training MSE: 0.7061878442764282, Validation MSE: 0.8518986701965332\n",
            "Epoch 41 - Training MSE: 0.7056657671928406, Validation MSE: 0.8509801030158997\n",
            "Epoch 42 - Training MSE: 0.7041393518447876, Validation MSE: 0.8523938655853271\n",
            "Epoch 43 - Training MSE: 0.7021461725234985, Validation MSE: 0.853319525718689\n",
            "Epoch 44 - Training MSE: 0.7013561129570007, Validation MSE: 0.8539599776268005\n",
            "Epoch 45 - Training MSE: 0.7016494274139404, Validation MSE: 0.8541601896286011\n",
            "Epoch 46 - Training MSE: 0.7003213763237, Validation MSE: 0.8548656702041626\n",
            "Epoch 47 - Training MSE: 0.7012574672698975, Validation MSE: 0.8526229858398438\n",
            "Epoch 48 - Training MSE: 0.6974228024482727, Validation MSE: 0.8541260957717896\n",
            "Epoch 49 - Training MSE: 0.6999343633651733, Validation MSE: 0.8550207018852234\n",
            "Epoch 50 - Training MSE: 0.6971909999847412, Validation MSE: 0.8559967875480652\n"
          ]
        }
      ]
    },
    {
      "cell_type": "code",
      "source": [],
      "metadata": {
        "id": "vZKwhYOnzxG4"
      },
      "execution_count": null,
      "outputs": []
    }
  ]
}